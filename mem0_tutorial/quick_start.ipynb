{
 "cells": [
  {
   "cell_type": "markdown",
   "metadata": {},
   "source": [
    "# mem0ai getting started"
   ]
  },
  {
   "cell_type": "code",
   "execution_count": 1,
   "metadata": {},
   "outputs": [],
   "source": [
    "from mem0 import Memory\n",
    "m = Memory()"
   ]
  },
  {
   "cell_type": "code",
   "execution_count": 2,
   "metadata": {},
   "outputs": [],
   "source": [
    "messages = [\n",
    "    {\"role\": \"user\", \"content\": \"I'm planning to watch a movie tonight. Any recommendations?\"},\n",
    "    {\"role\": \"assistant\", \"content\": \"How about a thriller movies? They can be quite engaging.\"},\n",
    "    {\"role\": \"user\", \"content\": \"I'm not a big fan of thriller movies but I love sci-fi movies.\"},\n",
    "    {\"role\": \"assistant\", \"content\": \"Got it! I'll avoid thriller recommendations and suggest sci-fi movies in the future.\"}\n",
    "]\n",
    "\n",
    "result = m.add(messages, user_id=\"alice\", metadata={\"category\": \"movie_recommendations\"})"
   ]
  },
  {
   "cell_type": "code",
   "execution_count": 3,
   "metadata": {},
   "outputs": [
    {
     "data": {
      "text/plain": [
       "{'results': [{'id': '50400e56-0f92-4ef7-815e-94538a8e8812',\n",
       "   'memory': 'Planning to watch a movie tonight',\n",
       "   'hash': 'bf55418607cfdca4afa311b5fd8496bd',\n",
       "   'metadata': {'category': 'movie_recommendations'},\n",
       "   'created_at': '2025-03-16T18:01:33.789114-07:00',\n",
       "   'updated_at': None,\n",
       "   'user_id': 'alice'},\n",
       "  {'id': '7b3cd0ec-8806-4df1-a5ca-dbb4883c1e91',\n",
       "   'memory': 'Not a big fan of thriller movies',\n",
       "   'hash': '028dfab4483f28980e292f62578d3293',\n",
       "   'metadata': {'category': 'movie_recommendations'},\n",
       "   'created_at': '2025-03-16T18:01:33.793903-07:00',\n",
       "   'updated_at': None,\n",
       "   'user_id': 'alice'},\n",
       "  {'id': '890f555b-fceb-4b0a-8fb3-0baf6dfc7d12',\n",
       "   'memory': 'Loves sci-fi movies',\n",
       "   'hash': '1110b1af77367917ea2022355a16f187',\n",
       "   'metadata': {'category': 'movie_recommendations'},\n",
       "   'created_at': '2025-03-16T18:01:33.798425-07:00',\n",
       "   'updated_at': None,\n",
       "   'user_id': 'alice'}]}"
      ]
     },
     "execution_count": 3,
     "metadata": {},
     "output_type": "execute_result"
    }
   ],
   "source": [
    "# retrieve memories\n",
    "all_memories = m.get_all(\n",
    "  user_id='alice'\n",
    ")\n",
    "all_memories"
   ]
  },
  {
   "cell_type": "code",
   "execution_count": 4,
   "metadata": {},
   "outputs": [
    {
     "data": {
      "text/plain": [
       "{'results': [{'id': '890f555b-fceb-4b0a-8fb3-0baf6dfc7d12',\n",
       "   'memory': 'Loves sci-fi movies',\n",
       "   'hash': '1110b1af77367917ea2022355a16f187',\n",
       "   'metadata': {'category': 'movie_recommendations'},\n",
       "   'score': 0.1812243450598177,\n",
       "   'created_at': '2025-03-16T18:01:33.798425-07:00',\n",
       "   'updated_at': None,\n",
       "   'user_id': 'alice'},\n",
       "  {'id': '7b3cd0ec-8806-4df1-a5ca-dbb4883c1e91',\n",
       "   'memory': 'Not a big fan of thriller movies',\n",
       "   'hash': '028dfab4483f28980e292f62578d3293',\n",
       "   'metadata': {'category': 'movie_recommendations'},\n",
       "   'score': 0.17129755478422135,\n",
       "   'created_at': '2025-03-16T18:01:33.793903-07:00',\n",
       "   'updated_at': None,\n",
       "   'user_id': 'alice'},\n",
       "  {'id': '50400e56-0f92-4ef7-815e-94538a8e8812',\n",
       "   'memory': 'Planning to watch a movie tonight',\n",
       "   'hash': 'bf55418607cfdca4afa311b5fd8496bd',\n",
       "   'metadata': {'category': 'movie_recommendations'},\n",
       "   'score': 0.12139030535559155,\n",
       "   'created_at': '2025-03-16T18:01:33.789114-07:00',\n",
       "   'updated_at': None,\n",
       "   'user_id': 'alice'}]}"
      ]
     },
     "execution_count": 4,
     "metadata": {},
     "output_type": "execute_result"
    }
   ],
   "source": [
    "# Search memories\n",
    "related_memories = m.search(query=\"What do you know about me?\", user_id=\"alice\")\n",
    "related_memories"
   ]
  },
  {
   "cell_type": "code",
   "execution_count": 6,
   "metadata": {},
   "outputs": [],
   "source": [
    "#Update memories \n",
    "result = m.update(\n",
    "  memory_id='50400e56-0f92-4ef7-815e-94538a8e8812',\n",
    "  data=\"I'm planning to watch a movie tomorrow. Any recommendations?\",)"
   ]
  },
  {
   "cell_type": "code",
   "execution_count": 7,
   "metadata": {},
   "outputs": [
    {
     "data": {
      "text/plain": [
       "{'results': [{'id': '50400e56-0f92-4ef7-815e-94538a8e8812',\n",
       "   'memory': \"I'm planning to watch a movie tomorrow. Any recommendations?\",\n",
       "   'hash': '7eb4fe1080526ec89efe43fb3ea66536',\n",
       "   'metadata': None,\n",
       "   'created_at': '2025-03-16T18:01:33.789114-07:00',\n",
       "   'updated_at': '2025-03-16T18:09:17.072814-07:00',\n",
       "   'user_id': 'alice'},\n",
       "  {'id': '7b3cd0ec-8806-4df1-a5ca-dbb4883c1e91',\n",
       "   'memory': 'Not a big fan of thriller movies',\n",
       "   'hash': '028dfab4483f28980e292f62578d3293',\n",
       "   'metadata': {'category': 'movie_recommendations'},\n",
       "   'created_at': '2025-03-16T18:01:33.793903-07:00',\n",
       "   'updated_at': None,\n",
       "   'user_id': 'alice'},\n",
       "  {'id': '890f555b-fceb-4b0a-8fb3-0baf6dfc7d12',\n",
       "   'memory': 'Loves sci-fi movies',\n",
       "   'hash': '1110b1af77367917ea2022355a16f187',\n",
       "   'metadata': {'category': 'movie_recommendations'},\n",
       "   'created_at': '2025-03-16T18:01:33.798425-07:00',\n",
       "   'updated_at': None,\n",
       "   'user_id': 'alice'}]}"
      ]
     },
     "execution_count": 7,
     "metadata": {},
     "output_type": "execute_result"
    }
   ],
   "source": [
    "m.get_all(user_id='alice')"
   ]
  },
  {
   "cell_type": "code",
   "execution_count": 9,
   "metadata": {},
   "outputs": [
    {
     "data": {
      "text/plain": [
       "[{'id': '468bdf98-918b-45aa-b1a4-9765099215c4',\n",
       "  'memory_id': '50400e56-0f92-4ef7-815e-94538a8e8812',\n",
       "  'old_memory': None,\n",
       "  'new_memory': 'Planning to watch a movie tonight',\n",
       "  'event': 'ADD',\n",
       "  'created_at': '2025-03-16T18:01:33.789114-07:00',\n",
       "  'updated_at': None},\n",
       " {'id': '34efbf0f-6c93-4400-aad8-dad1d43af67e',\n",
       "  'memory_id': '50400e56-0f92-4ef7-815e-94538a8e8812',\n",
       "  'old_memory': 'Planning to watch a movie tonight',\n",
       "  'new_memory': \"I'm planning to watch a movie tomorrow. Any recommendations?\",\n",
       "  'event': 'UPDATE',\n",
       "  'created_at': '2025-03-16T18:01:33.789114-07:00',\n",
       "  'updated_at': '2025-03-16T18:09:17.072814-07:00'}]"
      ]
     },
     "execution_count": 9,
     "metadata": {},
     "output_type": "execute_result"
    }
   ],
   "source": [
    "# memories history\n",
    "history = m.history(memory_id=\"50400e56-0f92-4ef7-815e-94538a8e8812\")\n",
    "history"
   ]
  },
  {
   "cell_type": "code",
   "execution_count": 10,
   "metadata": {},
   "outputs": [
    {
     "data": {
      "text/plain": [
       "{'message': 'Memory deleted successfully!'}"
      ]
     },
     "execution_count": 10,
     "metadata": {},
     "output_type": "execute_result"
    }
   ],
   "source": [
    "# Delete a memory by id\n",
    "m.delete(memory_id=\"50400e56-0f92-4ef7-815e-94538a8e8812\")\n"
   ]
  },
  {
   "cell_type": "code",
   "execution_count": 11,
   "metadata": {},
   "outputs": [
    {
     "data": {
      "text/plain": [
       "{'results': [{'id': '7b3cd0ec-8806-4df1-a5ca-dbb4883c1e91',\n",
       "   'memory': 'Not a big fan of thriller movies',\n",
       "   'hash': '028dfab4483f28980e292f62578d3293',\n",
       "   'metadata': {'category': 'movie_recommendations'},\n",
       "   'created_at': '2025-03-16T18:01:33.793903-07:00',\n",
       "   'updated_at': None,\n",
       "   'user_id': 'alice'},\n",
       "  {'id': '890f555b-fceb-4b0a-8fb3-0baf6dfc7d12',\n",
       "   'memory': 'Loves sci-fi movies',\n",
       "   'hash': '1110b1af77367917ea2022355a16f187',\n",
       "   'metadata': {'category': 'movie_recommendations'},\n",
       "   'created_at': '2025-03-16T18:01:33.798425-07:00',\n",
       "   'updated_at': None,\n",
       "   'user_id': 'alice'}]}"
      ]
     },
     "execution_count": 11,
     "metadata": {},
     "output_type": "execute_result"
    }
   ],
   "source": [
    "m.get_all(user_id='alice')"
   ]
  },
  {
   "cell_type": "code",
   "execution_count": 12,
   "metadata": {},
   "outputs": [
    {
     "data": {
      "text/plain": [
       "{'message': 'Memories deleted successfully!'}"
      ]
     },
     "execution_count": 12,
     "metadata": {},
     "output_type": "execute_result"
    }
   ],
   "source": [
    "# Delete all memories for a user\n",
    "m.delete_all(user_id=\"alice\")"
   ]
  },
  {
   "cell_type": "code",
   "execution_count": 13,
   "metadata": {},
   "outputs": [
    {
     "data": {
      "text/plain": [
       "{'results': []}"
      ]
     },
     "execution_count": 13,
     "metadata": {},
     "output_type": "execute_result"
    }
   ],
   "source": [
    "m.get_all(user_id='alice')"
   ]
  },
  {
   "cell_type": "code",
   "execution_count": 16,
   "metadata": {},
   "outputs": [
    {
     "name": "stderr",
     "output_type": "stream",
     "text": [
      "WARNING:mem0.memory.main:Resetting all memories\n"
     ]
    },
    {
     "ename": "KeyboardInterrupt",
     "evalue": "",
     "output_type": "error",
     "traceback": [
      "\u001b[0;31m---------------------------------------------------------------------------\u001b[0m",
      "\u001b[0;31mKeyboardInterrupt\u001b[0m                         Traceback (most recent call last)",
      "Cell \u001b[0;32mIn[16], line 2\u001b[0m\n\u001b[1;32m      1\u001b[0m \u001b[38;5;66;03m# reset memories\u001b[39;00m\n\u001b[0;32m----> 2\u001b[0m \u001b[43mm\u001b[49m\u001b[38;5;241;43m.\u001b[39;49m\u001b[43mreset\u001b[49m\u001b[43m(\u001b[49m\u001b[43m)\u001b[49m\n",
      "File \u001b[0;32m~/miniconda3/envs/llm-tools/lib/python3.10/site-packages/mem0/memory/main.py:654\u001b[0m, in \u001b[0;36mMemory.reset\u001b[0;34m(self)\u001b[0m\n\u001b[1;32m    650\u001b[0m \u001b[38;5;28mself\u001b[39m\u001b[38;5;241m.\u001b[39mvector_store\u001b[38;5;241m.\u001b[39mdelete_col()\n\u001b[1;32m    651\u001b[0m \u001b[38;5;28mself\u001b[39m\u001b[38;5;241m.\u001b[39mvector_store \u001b[38;5;241m=\u001b[39m VectorStoreFactory\u001b[38;5;241m.\u001b[39mcreate(\n\u001b[1;32m    652\u001b[0m     \u001b[38;5;28mself\u001b[39m\u001b[38;5;241m.\u001b[39mconfig\u001b[38;5;241m.\u001b[39mvector_store\u001b[38;5;241m.\u001b[39mprovider, \u001b[38;5;28mself\u001b[39m\u001b[38;5;241m.\u001b[39mconfig\u001b[38;5;241m.\u001b[39mvector_store\u001b[38;5;241m.\u001b[39mconfig\n\u001b[1;32m    653\u001b[0m )\n\u001b[0;32m--> 654\u001b[0m \u001b[38;5;28;43mself\u001b[39;49m\u001b[38;5;241;43m.\u001b[39;49m\u001b[43mdb\u001b[49m\u001b[38;5;241;43m.\u001b[39;49m\u001b[43mreset\u001b[49m\u001b[43m(\u001b[49m\u001b[43m)\u001b[49m\n\u001b[1;32m    655\u001b[0m capture_event(\u001b[38;5;124m\"\u001b[39m\u001b[38;5;124mmem0.reset\u001b[39m\u001b[38;5;124m\"\u001b[39m, \u001b[38;5;28mself\u001b[39m)\n",
      "File \u001b[0;32m~/miniconda3/envs/llm-tools/lib/python3.10/site-packages/mem0/memory/storage.py:150\u001b[0m, in \u001b[0;36mSQLiteManager.reset\u001b[0;34m(self)\u001b[0m\n\u001b[1;32m    148\u001b[0m \u001b[38;5;28;01mwith\u001b[39;00m \u001b[38;5;28mself\u001b[39m\u001b[38;5;241m.\u001b[39mconnection:\n\u001b[1;32m    149\u001b[0m     \u001b[38;5;28mself\u001b[39m\u001b[38;5;241m.\u001b[39mconnection\u001b[38;5;241m.\u001b[39mexecute(\u001b[38;5;124m\"\u001b[39m\u001b[38;5;124mDROP TABLE IF EXISTS history\u001b[39m\u001b[38;5;124m\"\u001b[39m)\n\u001b[0;32m--> 150\u001b[0m     \u001b[38;5;28;43mself\u001b[39;49m\u001b[38;5;241;43m.\u001b[39;49m\u001b[43m_create_history_table\u001b[49m\u001b[43m(\u001b[49m\u001b[43m)\u001b[49m\n",
      "File \u001b[0;32m~/miniconda3/envs/llm-tools/lib/python3.10/site-packages/mem0/memory/storage.py:74\u001b[0m, in \u001b[0;36mSQLiteManager._create_history_table\u001b[0;34m(self)\u001b[0m\n\u001b[1;32m     73\u001b[0m \u001b[38;5;28;01mdef\u001b[39;00m\u001b[38;5;250m \u001b[39m\u001b[38;5;21m_create_history_table\u001b[39m(\u001b[38;5;28mself\u001b[39m):\n\u001b[0;32m---> 74\u001b[0m     \u001b[38;5;28;01mwith\u001b[39;00m \u001b[38;5;28mself\u001b[39m\u001b[38;5;241m.\u001b[39m_lock:\n\u001b[1;32m     75\u001b[0m         \u001b[38;5;28;01mwith\u001b[39;00m \u001b[38;5;28mself\u001b[39m\u001b[38;5;241m.\u001b[39mconnection:\n\u001b[1;32m     76\u001b[0m             \u001b[38;5;28mself\u001b[39m\u001b[38;5;241m.\u001b[39mconnection\u001b[38;5;241m.\u001b[39mexecute(\n\u001b[1;32m     77\u001b[0m \u001b[38;5;250m                \u001b[39m\u001b[38;5;124;03m\"\"\"\u001b[39;00m\n\u001b[1;32m     78\u001b[0m \u001b[38;5;124;03m                CREATE TABLE IF NOT EXISTS history (\u001b[39;00m\n\u001b[0;32m   (...)\u001b[0m\n\u001b[1;32m     89\u001b[0m \u001b[38;5;124;03m            \"\"\"\u001b[39;00m\n\u001b[1;32m     90\u001b[0m             )\n",
      "\u001b[0;31mKeyboardInterrupt\u001b[0m: "
     ]
    }
   ],
   "source": [
    "# reset memories\n",
    "m.reset()"
   ]
  },
  {
   "cell_type": "code",
   "execution_count": null,
   "metadata": {},
   "outputs": [],
   "source": []
  }
 ],
 "metadata": {
  "kernelspec": {
   "display_name": "llm-tools",
   "language": "python",
   "name": "python3"
  },
  "language_info": {
   "codemirror_mode": {
    "name": "ipython",
    "version": 3
   },
   "file_extension": ".py",
   "mimetype": "text/x-python",
   "name": "python",
   "nbconvert_exporter": "python",
   "pygments_lexer": "ipython3",
   "version": "3.10.16"
  }
 },
 "nbformat": 4,
 "nbformat_minor": 2
}
