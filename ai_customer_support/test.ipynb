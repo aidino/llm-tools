{
 "cells": [
  {
   "cell_type": "code",
   "execution_count": 1,
   "metadata": {},
   "outputs": [
    {
     "data": {
      "text/plain": [
       "True"
      ]
     },
     "execution_count": 1,
     "metadata": {},
     "output_type": "execute_result"
    }
   ],
   "source": [
    "from openai import OpenAI\n",
    "from datetime import datetime, timedelta\n",
    "from dotenv import load_dotenv \n",
    "\n",
    "load_dotenv(dotenv_path='../.env')"
   ]
  },
  {
   "cell_type": "code",
   "execution_count": 2,
   "metadata": {},
   "outputs": [
    {
     "name": "stdout",
     "output_type": "stream",
     "text": [
      "today=datetime.datetime(2025, 3, 17, 10, 28, 53, 47523)\n",
      "order_date='March 07, 2025'\n",
      "expected_delivery='March 19, 2025'\n"
     ]
    }
   ],
   "source": [
    "today = datetime.now()\n",
    "order_date = (today - timedelta(days=10)).strftime(\"%B %d, %Y\")\n",
    "expected_delivery = (today + timedelta(days=2)).strftime(\"%B %d, %Y\")\n",
    "print(f\"{today=}\")\n",
    "print(f\"{order_date=}\")\n",
    "print(f\"{expected_delivery=}\")"
   ]
  },
  {
   "cell_type": "code",
   "execution_count": 6,
   "metadata": {},
   "outputs": [
    {
     "name": "stdout",
     "output_type": "stream",
     "text": [
      "Generate a detailed customer profile and order history for a TechGadgets.com customer with ID 1. Include:\n",
      "                1. Customer name and basic info\n",
      "                2. A recent order of a high-end electronic device (placed on March 07, 2025, to be delivered by March 19, 2025)\n",
      "                3. Order details (product, price, order number)\n",
      "                4. Customer's shipping address\n",
      "                5. 2-3 previous orders from the past year\n",
      "                6. 2-3 customer service interactions related to these orders\n",
      "                7. Any preferences or patterns in their shopping behavior\n",
      "\n",
      "                Format the output as a JSON object.\n"
     ]
    }
   ],
   "source": [
    "user_id=1\n",
    "prompt = f\"\"\"Generate a detailed customer profile and order history for a TechGadgets.com customer with ID {user_id}. Include:\n",
    "                1. Customer name and basic info\n",
    "                2. A recent order of a high-end electronic device (placed on {order_date}, to be delivered by {expected_delivery})\n",
    "                3. Order details (product, price, order number)\n",
    "                4. Customer's shipping address\n",
    "                5. 2-3 previous orders from the past year\n",
    "                6. 2-3 customer service interactions related to these orders\n",
    "                7. Any preferences or patterns in their shopping behavior\n",
    "\n",
    "                Format the output as a JSON object.\"\"\"\n",
    "\n",
    "print(prompt)"
   ]
  },
  {
   "cell_type": "code",
   "execution_count": 7,
   "metadata": {},
   "outputs": [],
   "source": [
    "client = OpenAI()"
   ]
  },
  {
   "cell_type": "code",
   "execution_count": 8,
   "metadata": {},
   "outputs": [
    {
     "data": {
      "text/plain": [
       "ChatCompletion(id='chatcmpl-BBvUodYneuR18DBOeZaKUmCtFOtn4', choices=[Choice(finish_reason='stop', index=0, logprobs=None, message=ChatCompletionMessage(content='{\\n    \"customer\": {\\n        \"id\": 1,\\n        \"name\": \"Sarah Johnson\",\\n        \"email\": \"sarah.johnson@example.com\",\\n        \"phone\": \"555-123-4567\",\\n        \"address\": \"123 Main St, Cityville, USA\"\\n    },\\n    \"orders\": [\\n        {\\n            \"order_number\": \"TG2025030701\",\\n            \"date_placed\": \"March 07, 2025\",\\n            \"estimated_delivery\": \"March 19, 2025\",\\n            \"product\": \"Apple MacBook Pro 16-inch\",\\n            \"price\": 2399.99\\n        },\\n        {\\n            \"order_number\": \"TG2024101502\",\\n            \"date_placed\": \"October 15, 2024\",\\n            \"estimated_delivery\": \"October 25, 2024\",\\n            \"product\": \"Samsung Galaxy S21 Ultra\",\\n            \"price\": 1399.99\\n        },\\n        {\\n            \"order_number\": \"TG2024030128\",\\n            \"date_placed\": \"March 01, 2024\",\\n            \"estimated_delivery\": \"March 10, 2024\",\\n            \"product\": \"Sony PlayStation 5\",\\n            \"price\": 499.99\\n        }\\n    ],\\n    \"service_interactions\": [\\n        {\\n            \"date\": \"February 10, 2025\",\\n            \"issue\": \"Inquired about product warranty for Samsung Galaxy S21 Ultra\",\\n            \"resolution\": \"Provided information on extended warranty options\"\\n        },\\n        {\\n            \"date\": \"November 07, 2024\",\\n            \"issue\": \"Complained about delayed delivery of Sony PlayStation 5\",\\n            \"resolution\": \"Apologized for the inconvenience and offered expedited shipping for future orders\"\\n        },\\n        {\\n            \"date\": \"April 22, 2024\",\\n            \"issue\": \"Requested return process for a defective item\",\\n            \"resolution\": \"Guided through the return process and provided a prepaid shipping label\"\\n        }\\n    ],\\n    \"shopping_preferences\": {\\n        \"preferred_brand\": \"Apple\",\\n        \"shopping_frequency\": \"Regular\",\\n        \"preferred_payment_method\": \"Credit card\",\\n        \"delivery_preference\": \"Standard shipping\"\\n    }\\n}', refusal=None, role='assistant', annotations=[], audio=None, function_call=None, tool_calls=None))], created=1742182322, model='gpt-3.5-turbo-0125', object='chat.completion', service_tier='default', system_fingerprint=None, usage=CompletionUsage(completion_tokens=469, prompt_tokens=177, total_tokens=646, completion_tokens_details=CompletionTokensDetails(accepted_prediction_tokens=0, audio_tokens=0, reasoning_tokens=0, rejected_prediction_tokens=0), prompt_tokens_details=PromptTokensDetails(audio_tokens=0, cached_tokens=0)))"
      ]
     },
     "execution_count": 8,
     "metadata": {},
     "output_type": "execute_result"
    }
   ],
   "source": [
    "response = client.chat.completions.create(\n",
    "  model='gpt-3.5-turbo',\n",
    "  messages=[\n",
    "    {\"role\": \"system\", \"content\": \"You are a data generation AI that creates realistic customer profiles and order histories. Always respond with valid JSON.\"},\n",
    "    {\"role\": \"user\", \"content\": prompt}\n",
    "  ]\n",
    ")\n",
    "\n",
    "response"
   ]
  },
  {
   "cell_type": "code",
   "execution_count": 10,
   "metadata": {},
   "outputs": [
    {
     "data": {
      "text/plain": [
       "'{\\n    \"customer\": {\\n        \"id\": 1,\\n        \"name\": \"Sarah Johnson\",\\n        \"email\": \"sarah.johnson@example.com\",\\n        \"phone\": \"555-123-4567\",\\n        \"address\": \"123 Main St, Cityville, USA\"\\n    },\\n    \"orders\": [\\n        {\\n            \"order_number\": \"TG2025030701\",\\n            \"date_placed\": \"March 07, 2025\",\\n            \"estimated_delivery\": \"March 19, 2025\",\\n            \"product\": \"Apple MacBook Pro 16-inch\",\\n            \"price\": 2399.99\\n        },\\n        {\\n            \"order_number\": \"TG2024101502\",\\n            \"date_placed\": \"October 15, 2024\",\\n            \"estimated_delivery\": \"October 25, 2024\",\\n            \"product\": \"Samsung Galaxy S21 Ultra\",\\n            \"price\": 1399.99\\n        },\\n        {\\n            \"order_number\": \"TG2024030128\",\\n            \"date_placed\": \"March 01, 2024\",\\n            \"estimated_delivery\": \"March 10, 2024\",\\n            \"product\": \"Sony PlayStation 5\",\\n            \"price\": 499.99\\n        }\\n    ],\\n    \"service_interactions\": [\\n        {\\n            \"date\": \"February 10, 2025\",\\n            \"issue\": \"Inquired about product warranty for Samsung Galaxy S21 Ultra\",\\n            \"resolution\": \"Provided information on extended warranty options\"\\n        },\\n        {\\n            \"date\": \"November 07, 2024\",\\n            \"issue\": \"Complained about delayed delivery of Sony PlayStation 5\",\\n            \"resolution\": \"Apologized for the inconvenience and offered expedited shipping for future orders\"\\n        },\\n        {\\n            \"date\": \"April 22, 2024\",\\n            \"issue\": \"Requested return process for a defective item\",\\n            \"resolution\": \"Guided through the return process and provided a prepaid shipping label\"\\n        }\\n    ],\\n    \"shopping_preferences\": {\\n        \"preferred_brand\": \"Apple\",\\n        \"shopping_frequency\": \"Regular\",\\n        \"preferred_payment_method\": \"Credit card\",\\n        \"delivery_preference\": \"Standard shipping\"\\n    }\\n}'"
      ]
     },
     "execution_count": 10,
     "metadata": {},
     "output_type": "execute_result"
    }
   ],
   "source": [
    "response.choices[0].message.content"
   ]
  },
  {
   "cell_type": "code",
   "execution_count": 11,
   "metadata": {},
   "outputs": [],
   "source": [
    "import json\n",
    "customer_data = json.loads(response.choices[0].message.content)"
   ]
  },
  {
   "cell_type": "code",
   "execution_count": 12,
   "metadata": {},
   "outputs": [
    {
     "data": {
      "text/plain": [
       "{'customer': {'id': 1,\n",
       "  'name': 'Sarah Johnson',\n",
       "  'email': 'sarah.johnson@example.com',\n",
       "  'phone': '555-123-4567',\n",
       "  'address': '123 Main St, Cityville, USA'},\n",
       " 'orders': [{'order_number': 'TG2025030701',\n",
       "   'date_placed': 'March 07, 2025',\n",
       "   'estimated_delivery': 'March 19, 2025',\n",
       "   'product': 'Apple MacBook Pro 16-inch',\n",
       "   'price': 2399.99},\n",
       "  {'order_number': 'TG2024101502',\n",
       "   'date_placed': 'October 15, 2024',\n",
       "   'estimated_delivery': 'October 25, 2024',\n",
       "   'product': 'Samsung Galaxy S21 Ultra',\n",
       "   'price': 1399.99},\n",
       "  {'order_number': 'TG2024030128',\n",
       "   'date_placed': 'March 01, 2024',\n",
       "   'estimated_delivery': 'March 10, 2024',\n",
       "   'product': 'Sony PlayStation 5',\n",
       "   'price': 499.99}],\n",
       " 'service_interactions': [{'date': 'February 10, 2025',\n",
       "   'issue': 'Inquired about product warranty for Samsung Galaxy S21 Ultra',\n",
       "   'resolution': 'Provided information on extended warranty options'},\n",
       "  {'date': 'November 07, 2024',\n",
       "   'issue': 'Complained about delayed delivery of Sony PlayStation 5',\n",
       "   'resolution': 'Apologized for the inconvenience and offered expedited shipping for future orders'},\n",
       "  {'date': 'April 22, 2024',\n",
       "   'issue': 'Requested return process for a defective item',\n",
       "   'resolution': 'Guided through the return process and provided a prepaid shipping label'}],\n",
       " 'shopping_preferences': {'preferred_brand': 'Apple',\n",
       "  'shopping_frequency': 'Regular',\n",
       "  'preferred_payment_method': 'Credit card',\n",
       "  'delivery_preference': 'Standard shipping'}}"
      ]
     },
     "execution_count": 12,
     "metadata": {},
     "output_type": "execute_result"
    }
   ],
   "source": [
    "customer_data"
   ]
  },
  {
   "cell_type": "code",
   "execution_count": 14,
   "metadata": {},
   "outputs": [
    {
     "name": "stdout",
     "output_type": "stream",
     "text": [
      "customer: {\"id\": 1, \"name\": \"Sarah Johnson\", \"email\": \"sarah.johnson@example.com\", \"phone\": \"555-123-4567\", \"address\": \"123 Main St, Cityville, USA\"}\n",
      "{\"order_number\": \"TG2025030701\", \"date_placed\": \"March 07, 2025\", \"estimated_delivery\": \"March 19, 2025\", \"product\": \"Apple MacBook Pro 16-inch\", \"price\": 2399.99}\n",
      "{\"order_number\": \"TG2024101502\", \"date_placed\": \"October 15, 2024\", \"estimated_delivery\": \"October 25, 2024\", \"product\": \"Samsung Galaxy S21 Ultra\", \"price\": 1399.99}\n",
      "{\"order_number\": \"TG2024030128\", \"date_placed\": \"March 01, 2024\", \"estimated_delivery\": \"March 10, 2024\", \"product\": \"Sony PlayStation 5\", \"price\": 499.99}\n",
      "{\"date\": \"February 10, 2025\", \"issue\": \"Inquired about product warranty for Samsung Galaxy S21 Ultra\", \"resolution\": \"Provided information on extended warranty options\"}\n",
      "{\"date\": \"November 07, 2024\", \"issue\": \"Complained about delayed delivery of Sony PlayStation 5\", \"resolution\": \"Apologized for the inconvenience and offered expedited shipping for future orders\"}\n",
      "{\"date\": \"April 22, 2024\", \"issue\": \"Requested return process for a defective item\", \"resolution\": \"Guided through the return process and provided a prepaid shipping label\"}\n",
      "shopping_preferences: {\"preferred_brand\": \"Apple\", \"shopping_frequency\": \"Regular\", \"preferred_payment_method\": \"Credit card\", \"delivery_preference\": \"Standard shipping\"}\n"
     ]
    }
   ],
   "source": [
    "for key, value in customer_data.items():\n",
    "  if isinstance(value, list):\n",
    "    for item in value:\n",
    "      print(json.dumps(item))\n",
    "  else:\n",
    "    print(f\"{key}: {json.dumps(value)}\")"
   ]
  },
  {
   "cell_type": "code",
   "execution_count": null,
   "metadata": {},
   "outputs": [],
   "source": []
  }
 ],
 "metadata": {
  "kernelspec": {
   "display_name": "llm-tools",
   "language": "python",
   "name": "python3"
  },
  "language_info": {
   "codemirror_mode": {
    "name": "ipython",
    "version": 3
   },
   "file_extension": ".py",
   "mimetype": "text/x-python",
   "name": "python",
   "nbconvert_exporter": "python",
   "pygments_lexer": "ipython3",
   "version": "3.10.16"
  }
 },
 "nbformat": 4,
 "nbformat_minor": 2
}
